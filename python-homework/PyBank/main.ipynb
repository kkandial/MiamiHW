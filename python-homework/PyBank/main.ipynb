{
 "cells": [
  {
   "cell_type": "code",
   "execution_count": 1,
   "source": [
    "# Import the pathlib and csv library\r\n",
    "from pathlib import Path\r\n",
    "import csv\r\n",
    "\r\n",
    "# Setting the file path \r\n",
    "csvpath = Path(\"../Pybank/budget_data.csv\")\r\n",
    "\r\n",
    "# Setting file path for file output\r\n",
    "\r\n",
    "csvpath_out = Path(\"analysis_results.txt\")\r\n",
    "# Initialize list for records\r\n",
    "\r\n",
    "average_change = []\r\n",
    "\r\n",
    "# Initialize the metric variables\r\n",
    "count = 0\r\n",
    "total = 0\r\n",
    "minimum = 0\r\n",
    "maximum = 0\r\n",
    "\r\n",
    "# with open(filepath, \"r\") as csvfile\r\n",
    "with open(csvpath, 'r') as csvfile:\r\n",
    "        csvreader = csv.reader(csvfile, delimiter = \",\")\r\n",
    "        header = next(csvreader)\r\n",
    "\r\n",
    "        ## Iterate over each element of the list\r\n",
    "        for rows in csvreader:\r\n",
    "        \r\n",
    "                ### Determining the number of months by counting the number of rows after the header\r\n",
    "                count += 1\r\n",
    "                \r\n",
    "                ### Calculating the total for all months.\r\n",
    "                total += int(rows[1])\r\n",
    "\r\n",
    "# Tried doing under one for loop but i kept getting incorrect results so i had to start this one. I beleive my oversite is including 2 lines of code which ignores the first row (header)\r\n",
    "with open(csvpath, 'r') as csvfile:\r\n",
    "        csvreader = csv.reader(csvfile, delimiter = \",\")\r\n",
    "        lines = csvfile.readlines()\r\n",
    "        ## Calculating the Average Change\r\n",
    "        data = []\r\n",
    "\r\n",
    "        ## Don't read the first line containing month and amount\r\n",
    "        for line in lines[1:]: \r\n",
    "\r\n",
    "                ### Erase the newline character from each line\r\n",
    "                line = line.strip(\"\\n\") \r\n",
    "\r\n",
    "                ### Split the lines using the comma as a delimiter\r\n",
    "                data.append(line.split(\",\")) \r\n",
    "\r\n",
    "        output = []\r\n",
    "\r\n",
    "        ## Start in the second element to subtracting the first one\r\n",
    "        for index,element in enumerate(data[1:]): \r\n",
    "                output.append(int(element[1])-int(data[index][1]))\r\n",
    "\r\n",
    "        average_change = sum(output)/len(output)\r\n",
    "\r\n",
    "# Outputing the results of the analysis to the set path\r\n",
    "with open(csvpath_out, 'w') as txt_file:\r\n",
    "\r\n",
    "        # Printing the summary for Financial Analysis\r\n",
    "        txt_file.write(\"Financial Analysis\\n\")\r\n",
    "        txt_file.write(\"----------------------------\\n\")\r\n",
    "\r\n",
    "        ## The total number of months included in the dataset.\r\n",
    "        txt_file.write(f\"Total Months: {count}\\n\")\r\n",
    "\r\n",
    "        ## The net total amount of Profit/Losses over the entire period.\r\n",
    "        txt_file.write(f\"Total: ${total}\\n\")\r\n",
    "\r\n",
    "        ## The average of the changes in Profit/Losses over the entire period.\r\n",
    "        txt_file.write(\"Average Change: $\\n\", \"{:.2f}\".format(average_change))\r\n",
    "\r\n",
    "        ## The greatest increase in profits (date and amount) over the entire period. I could not figure out how to get the Month-Year include in this. hope i did not do the shortcut to get this answer. \r\n",
    "        txt_file.write(\"Greatest Increase in Profits: $\\n\", max(output))\r\n",
    "\r\n",
    "        ## The greatest decrease in losses (date and amount) over the entire period. I could not figure out how to get the Month-Year included in this. hope i did not do the shortcut to get this answer.\r\n",
    "        txt_file.write(\"Greatest Decrease in Profits: $\\n\", min(output))"
   ],
   "outputs": [
    {
     "output_type": "error",
     "ename": "TypeError",
     "evalue": "write() takes exactly one argument (2 given)",
     "traceback": [
      "\u001b[1;31m---------------------------------------------------------------------------\u001b[0m",
      "\u001b[1;31mTypeError\u001b[0m                                 Traceback (most recent call last)",
      "\u001b[1;32m<ipython-input-1-00f4a6882ac5>\u001b[0m in \u001b[0;36m<module>\u001b[1;34m\u001b[0m\n\u001b[0;32m     71\u001b[0m \u001b[1;33m\u001b[0m\u001b[0m\n\u001b[0;32m     72\u001b[0m         \u001b[1;31m## The average of the changes in Profit/Losses over the entire period.\u001b[0m\u001b[1;33m\u001b[0m\u001b[1;33m\u001b[0m\u001b[1;33m\u001b[0m\u001b[0m\n\u001b[1;32m---> 73\u001b[1;33m         \u001b[0mtxt_file\u001b[0m\u001b[1;33m.\u001b[0m\u001b[0mwrite\u001b[0m\u001b[1;33m(\u001b[0m\u001b[1;34m\"Average Change: $\\n\"\u001b[0m\u001b[1;33m,\u001b[0m \u001b[1;34m\"{:.2f}\"\u001b[0m\u001b[1;33m.\u001b[0m\u001b[0mformat\u001b[0m\u001b[1;33m(\u001b[0m\u001b[0maverage_change\u001b[0m\u001b[1;33m)\u001b[0m\u001b[1;33m)\u001b[0m\u001b[1;33m\u001b[0m\u001b[1;33m\u001b[0m\u001b[0m\n\u001b[0m\u001b[0;32m     74\u001b[0m \u001b[1;33m\u001b[0m\u001b[0m\n\u001b[0;32m     75\u001b[0m         \u001b[1;31m## The greatest increase in profits (date and amount) over the entire period. I could not figure out how to get the Month-Year include in this. hope i did not do the shortcut to get this answer.\u001b[0m\u001b[1;33m\u001b[0m\u001b[1;33m\u001b[0m\u001b[1;33m\u001b[0m\u001b[0m\n",
      "\u001b[1;31mTypeError\u001b[0m: write() takes exactly one argument (2 given)"
     ]
    }
   ],
   "metadata": {}
  },
  {
   "cell_type": "code",
   "execution_count": null,
   "source": [],
   "outputs": [],
   "metadata": {}
  }
 ],
 "metadata": {
  "kernelspec": {
   "name": "python3",
   "display_name": "Python 3.8.8 64-bit ('FinTech': conda)"
  },
  "language_info": {
   "codemirror_mode": {
    "name": "ipython",
    "version": 3
   },
   "file_extension": ".py",
   "mimetype": "text/x-python",
   "name": "python",
   "nbconvert_exporter": "python",
   "pygments_lexer": "ipython3",
   "version": "3.8.8"
  },
  "interpreter": {
   "hash": "86d49cb2b96fb2aa097a7cc39933082f2cb6b515d6e87818e2335dd8a77b6158"
  }
 },
 "nbformat": 4,
 "nbformat_minor": 5
}